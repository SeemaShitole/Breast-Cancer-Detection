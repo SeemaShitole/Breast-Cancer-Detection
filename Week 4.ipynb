{
 "cells": [
  {
   "cell_type": "code",
   "execution_count": 4,
   "metadata": {},
   "outputs": [],
   "source": [
    "import numpy as np\n",
    "import pandas as pd\n",
    "import matplotlib.pyplot as plt\n",
    "import seaborn as sns"
   ]
  },
  {
   "cell_type": "code",
   "execution_count": 5,
   "metadata": {},
   "outputs": [],
   "source": [
    "df=pd.read_csv('cancer dataset1.csv') "
   ]
  },
  {
   "cell_type": "code",
   "execution_count": 6,
   "metadata": {},
   "outputs": [],
   "source": [
    "from sklearn.preprocessing import LabelEncoder\n",
    "labelencoder_Y=LabelEncoder()\n",
    "df.iloc[:,1]=labelencoder_Y.fit_transform(df.iloc[:,1].values)"
   ]
  },
  {
   "cell_type": "code",
   "execution_count": 7,
   "metadata": {},
   "outputs": [],
   "source": [
    "X=df.iloc[:,2:31].values \n",
    "Y=df.iloc[:,1].values"
   ]
  },
  {
   "cell_type": "code",
   "execution_count": 8,
   "metadata": {},
   "outputs": [],
   "source": [
    "# Split the data into 75% training and 25% testing\n",
    "from sklearn.model_selection import train_test_split\n",
    "X_train, X_test, Y_train, Y_test= train_test_split(X,Y, test_size=0.25, random_state=0)"
   ]
  },
  {
   "cell_type": "code",
   "execution_count": 9,
   "metadata": {},
   "outputs": [],
   "source": [
    "# Scale the data (Feature scaling)\n",
    "from sklearn.preprocessing import StandardScaler\n",
    "sc=StandardScaler()\n",
    "X_train=sc.fit_transform(X_train)\n",
    "X_test=sc.fit_transform(X_test)"
   ]
  },
  {
   "cell_type": "code",
   "execution_count": 10,
   "metadata": {},
   "outputs": [],
   "source": [
    "# Create a function for model Logistic Regression\n",
    "def logreg (X_train, Y_train):\n",
    "    from sklearn.linear_model import LogisticRegression\n",
    "    log=LogisticRegression (random_state=0)\n",
    "    log.fit(X_train, Y_train)\n",
    "    print(\"Logistic Regression Training Accuracy:\", log.score(X_train, Y_train))\n",
    "    return log"
   ]
  },
  {
   "cell_type": "code",
   "execution_count": 11,
   "metadata": {},
   "outputs": [
    {
     "name": "stdout",
     "output_type": "stream",
     "text": [
      "Logistic Regression Training Accuracy: 0.9906103286384976\n"
     ]
    }
   ],
   "source": [
    "logrex=logreg(X_train, Y_train) "
   ]
  },
  {
   "cell_type": "code",
   "execution_count": 12,
   "metadata": {},
   "outputs": [],
   "source": [
    "# Confusion Matrix\n",
    "# A confusion matrix is a summary of prediction results on a classification problem. The number of correct and incorrect predictions are summarized with count values and broken down by each class. This is the key to the confusion matrix. The confusion matrix shows the ways in which your classification model is confused when it makes predictions. It gives us insight not only into the errors being made by a classifier but more importantly the types of errors that are being made.\n",
    "\n",
    "# Definition of the Terms:\n",
    "# Positive (P) : Observation is positive (for example: is an apple). Negative (N) : Observation is not positive (for example: is not an apple). True Positive (TP) : Observation is positive, and is predicted to be positive. False Negative (FN) : Observation is positive, but is predicted negative. True Negative (TN) : Observation is negative, and is predicted to be negative. False Positive (FP) : Observation is negative, but is predicted positive.\n",
    "\n",
    "# Rates that are often computed from a confusion matrix for a binary classifier:\n",
    "\n",
    "# Accuracy: Overall, how often is the classifier correct? (TP+TN)/total\n",
    "\n",
    "# Misclassification Rate: Overall, how often is it wrong? (FP+FN)/total"
   ]
  },
  {
   "cell_type": "code",
   "execution_count": 13,
   "metadata": {},
   "outputs": [
    {
     "name": "stdout",
     "output_type": "stream",
     "text": [
      "[[86  4]\n",
      " [ 3 50]]\n"
     ]
    }
   ],
   "source": [
    "# Test model accuracy on test data on confusion matrix\n",
    "from sklearn.metrics import confusion_matrix\n",
    "cm = confusion_matrix(Y_test, logrex.predict(X_test))\n",
    "print(cm)"
   ]
  },
  {
   "cell_type": "code",
   "execution_count": 14,
   "metadata": {},
   "outputs": [],
   "source": [
    "# In this model\n",
    "\n",
    "# true positive=86\n",
    "# True negative=50\n",
    "# False positive=4\n",
    "# # False negative=3"
   ]
  },
  {
   "cell_type": "code",
   "execution_count": 15,
   "metadata": {},
   "outputs": [
    {
     "name": "stdout",
     "output_type": "stream",
     "text": [
      "Testing accuracy of logistic regression model= 0.951048951048951\n"
     ]
    }
   ],
   "source": [
    "TP=cm[0][0]\n",
    "TN=cm[1][1]\n",
    "FN=cm[1][0]\n",
    "FP=cm[0][1]\n",
    "print(\"Testing accuracy of logistic regression model=\", (TP+TN)/(TP+TN+FN+FP))"
   ]
  },
  {
   "cell_type": "code",
   "execution_count": 20,
   "metadata": {},
   "outputs": [],
   "source": [
    "# Create a function for model Decision Tree \n",
    "def dectree (X_train, Y_train):\n",
    "    from sklearn.tree import DecisionTreeClassifier\n",
    "    tree=DecisionTreeClassifier (random_state=0)\n",
    "    tree.fit(X_train, Y_train)\n",
    "    print(\"Decision Tree Training Accuracy:\", tree.score(X_train, Y_train))\n",
    "    return tree"
   ]
  },
  {
   "cell_type": "code",
   "execution_count": 21,
   "metadata": {},
   "outputs": [
    {
     "name": "stdout",
     "output_type": "stream",
     "text": [
      "Decision Tree Training Accuracy: 1.0\n"
     ]
    }
   ],
   "source": [
    "acc_dectree=dectree(X_train, Y_train)"
   ]
  },
  {
   "cell_type": "code",
   "execution_count": 30,
   "metadata": {},
   "outputs": [
    {
     "name": "stdout",
     "output_type": "stream",
     "text": [
      "[[79 11]\n",
      " [ 3 50]]\n"
     ]
    }
   ],
   "source": [
    "# Test model accuracy on test data on confusion matrix\n",
    "from sklearn.metrics import confusion_matrix\n",
    "cm2 = confusion_matrix(Y_test, acc_dectree.predict(X_test))\n",
    "print(cm2)"
   ]
  },
  {
   "cell_type": "code",
   "execution_count": 31,
   "metadata": {},
   "outputs": [
    {
     "name": "stdout",
     "output_type": "stream",
     "text": [
      "Testing accuracy of Decision Tree model= 0.9020979020979021\n"
     ]
    }
   ],
   "source": [
    "TP2=cm2[0][0]\n",
    "TN2=cm2[1][1]\n",
    "FN2=cm2[1][0]\n",
    "FP2=cm2[0][1]\n",
    "print(\"Testing accuracy of Decision Tree model=\", (TP2+TN2)/(TP2+TN2+FN2+FP2))"
   ]
  },
  {
   "cell_type": "code",
   "execution_count": 32,
   "metadata": {},
   "outputs": [],
   "source": [
    "# Create a function for model Random Forest\n",
    "def ranforest (X_train, Y_train):\n",
    "    from sklearn.ensemble import RandomForestClassifier\n",
    "    forest=RandomForestClassifier (random_state=0)\n",
    "    forest.fit(X_train, Y_train)\n",
    "    print(\"Random Forest Training Accuracy:\", forest.score(X_train, Y_train))\n",
    "    return forest"
   ]
  },
  {
   "cell_type": "code",
   "execution_count": 33,
   "metadata": {},
   "outputs": [
    {
     "name": "stdout",
     "output_type": "stream",
     "text": [
      "Random Forest Training Accuracy: 0.9976525821596244\n"
     ]
    }
   ],
   "source": [
    "acc_ranforest=ranforest(X_train, Y_train)"
   ]
  },
  {
   "cell_type": "code",
   "execution_count": 34,
   "metadata": {},
   "outputs": [
    {
     "name": "stdout",
     "output_type": "stream",
     "text": [
      "[[85  5]\n",
      " [ 1 52]]\n"
     ]
    }
   ],
   "source": [
    "# Test model accuracy on test data on confusion matrix\n",
    "from sklearn.metrics import confusion_matrix\n",
    "cm3 = confusion_matrix(Y_test, acc_ranforest.predict(X_test))\n",
    "print(cm3)"
   ]
  },
  {
   "cell_type": "code",
   "execution_count": 36,
   "metadata": {},
   "outputs": [
    {
     "name": "stdout",
     "output_type": "stream",
     "text": [
      "Testing accuracy of Random Forest model= 0.958041958041958\n"
     ]
    }
   ],
   "source": [
    "TP3=cm3[0][0]\n",
    "TN3=cm3[1][1]\n",
    "FN3=cm3[1][0]\n",
    "FP3=cm3[0][1]\n",
    "print(\"Testing accuracy of Random Forest model=\", (TP3+TN3)/(TP3+TN3+FN3+FP3))"
   ]
  },
  {
   "cell_type": "code",
   "execution_count": null,
   "metadata": {},
   "outputs": [],
   "source": [
    "# Random Forest Classifier has highest accuracy (0.958041958041958) among the other two classifiers.\n",
    "# Random forest algorithm creates decision trees on data samples and then gets the prediction from each of them and finally selects the best solution by means of voting.\n",
    "# Hence Random Forest Classifier is the best model as it gives the best results for our dataset."
   ]
  }
 ],
 "metadata": {
  "kernelspec": {
   "display_name": "Python 3",
   "language": "python",
   "name": "python3"
  },
  "language_info": {
   "codemirror_mode": {
    "name": "ipython",
    "version": 3
   },
   "file_extension": ".py",
   "mimetype": "text/x-python",
   "name": "python",
   "nbconvert_exporter": "python",
   "pygments_lexer": "ipython3",
   "version": "3.7.0"
  }
 },
 "nbformat": 4,
 "nbformat_minor": 2
}
